{
 "cells": [
  {
   "cell_type": "markdown",
   "metadata": {},
   "source": [
    "# Baseline linear regression model"
   ]
  },
  {
   "cell_type": "markdown",
   "metadata": {},
   "source": [
    "## download the data\n",
    "\n"
   ]
  },
  {
   "cell_type": "code",
   "execution_count": 10,
   "metadata": {},
   "outputs": [],
   "source": [
    "import requests\n",
    "import datetime\n",
    "\n",
    "import pandas as pd\n",
    "import zipfile\n",
    "\n",
    "import mlflow\n",
    "import os\n",
    "\n",
    "\n",
    "from sklearn.model_selection import train_test_split\n",
    "\n",
    "from sklearn.preprocessing import StandardScaler\n",
    "\n",
    "from sklearn.preprocessing import OneHotEncoder\n",
    "from sklearn.compose import make_column_transformer\n",
    "\n",
    "from sklearn.linear_model import LinearRegression\n",
    "from sklearn.metrics import mean_squared_error\n"
   ]
  },
  {
   "cell_type": "code",
   "execution_count": 6,
   "metadata": {},
   "outputs": [
    {
     "name": "stdout",
     "output_type": "stream",
     "text": [
      "tracking URI: 'http://34.68.82.207:5000'\n"
     ]
    }
   ],
   "source": [
    "#set up tracking server\n",
    "TRACKING_SERVER_HOST = \"34.68.82.207\" #external IP reserved in GCP\n",
    "mlflow.set_tracking_uri(f\"http://{TRACKING_SERVER_HOST}:5000\")\n",
    "\n",
    "print(f\"tracking URI: '{mlflow.get_tracking_uri()}'\")"
   ]
  },
  {
   "cell_type": "code",
   "execution_count": 7,
   "metadata": {},
   "outputs": [],
   "source": [
    "data_file = \"../data/processed/202304-usage.parquet\""
   ]
  },
  {
   "cell_type": "code",
   "execution_count": 8,
   "metadata": {},
   "outputs": [
    {
     "name": "stderr",
     "output_type": "stream",
     "text": [
      "2024/07/24 13:48:32 INFO mlflow.tracking.fluent: Experiment with name 'experiment-3' does not exist. Creating a new experiment.\n"
     ]
    },
    {
     "data": {
      "text/plain": [
       "<Experiment: artifact_location='gs://mlops-divvy-experiment-tracking/mlruns/3', creation_time=1721846912312, experiment_id='3', last_update_time=1721846912312, lifecycle_stage='active', name='experiment-3', tags={}>"
      ]
     },
     "execution_count": 8,
     "metadata": {},
     "output_type": "execute_result"
    }
   ],
   "source": [
    "mlflow.set_experiment(\"experiment-3\")"
   ]
  },
  {
   "cell_type": "markdown",
   "metadata": {},
   "source": [
    "# Model training\n"
   ]
  },
  {
   "cell_type": "code",
   "execution_count": 11,
   "metadata": {},
   "outputs": [
    {
     "name": "stdout",
     "output_type": "stream",
     "text": [
      "default artifacts URI: 'gs://mlops-divvy-experiment-tracking/mlruns/3/80a9e48d19af4273a5c9c54f04ac1b84/artifacts'\n"
     ]
    },
    {
     "data": {
      "text/plain": [
       "[<Experiment: artifact_location='gs://mlops-divvy-experiment-tracking/mlruns/3', creation_time=1721846912312, experiment_id='3', last_update_time=1721846912312, lifecycle_stage='active', name='experiment-3', tags={}>,\n",
       " <Experiment: artifact_location='gs://mlops-divvy-experiment-tracking/mlruns/2', creation_time=1721227750156, experiment_id='2', last_update_time=1721227750156, lifecycle_stage='active', name='experiment-2', tags={}>,\n",
       " <Experiment: artifact_location='gs://mlops-divvy-experiment-tracking/mlruns/1', creation_time=1721225054205, experiment_id='1', last_update_time=1721225054205, lifecycle_stage='active', name='experiment-1', tags={}>,\n",
       " <Experiment: artifact_location='gs://mlops-divvy-experiment-tracking/mlruns/0', creation_time=1721165169497, experiment_id='0', last_update_time=1721165169497, lifecycle_stage='active', name='Default', tags={}>]"
      ]
     },
     "execution_count": 11,
     "metadata": {},
     "output_type": "execute_result"
    }
   ],
   "source": [
    "with mlflow.start_run():\n",
    "    #load prepared data\n",
    "    df = pd.read_parquet(data_file)\n",
    "    mlflow.log_param(\"data_file\", data_file)\n",
    "\n",
    "    features = df[['station_name', 'hour', 'day_of_week']]\n",
    "    target = df['net_usage']\n",
    "\n",
    "    num_features= ['hour']\n",
    "    cat_features = ['station_name', 'day_of_week']\n",
    "\n",
    "\n",
    "    split_params = {\"test_size\": 0.2, \"random_state\": 42}\n",
    "    X_train, X_test, y_train, y_test = train_test_split(features, target, **split_params)\n",
    "\n",
    "    Standard_Scaler = StandardScaler()\n",
    "    num_scaled_train = pd.DataFrame(Standard_Scaler.fit_transform(X_train[num_features]), columns=['hour_scaled'])\n",
    "    num_scaled_test = pd.DataFrame(Standard_Scaler.transform(X_test[num_features]), columns=['hour_scaled'])\n",
    "\n",
    "    num_scaled_train.index = X_train.index\n",
    "    num_scaled_test.index = X_test.index\n",
    "\n",
    "    ohe = OneHotEncoder(handle_unknown='ignore')\n",
    "    ohe_cols_train = ohe.fit_transform(X_train[cat_features])\n",
    "    ohe_cols_test = ohe.transform(X_test[cat_features])\n",
    "\n",
    "    ohe_cols_train = pd.DataFrame(ohe.fit_transform(X_train[cat_features]).toarray(), columns = ohe.get_feature_names_out(cat_features))\n",
    "    ohe_cols_test = pd.DataFrame(ohe.transform(X_test[cat_features]).toarray(), columns = ohe.get_feature_names_out(cat_features))\n",
    "\n",
    "    ohe_cols_train.index = X_train.index\n",
    "    ohe_cols_test.index = X_test.index\n",
    "\n",
    "    transformed_X_train = pd.concat([num_scaled_train, ohe_cols_train], axis=1)\n",
    "    transformed_X_test = pd.concat([num_scaled_test, ohe_cols_test], axis=1)\n",
    "\n",
    "    \n",
    "    #params = {\"n_estimators\": 10, \"random_state\": 42}\n",
    "    #mlflow.log_params(params)\n",
    "\n",
    "    lr = LinearRegression().fit(transformed_X_train, y_train) #**params\n",
    "    \n",
    "    y_pred = lr.predict(transformed_X_test)\n",
    "    mlflow.log_metric(\"mse\", mean_squared_error(y_test, y_pred))\n",
    "\n",
    "    mlflow.sklearn.log_model(lr, artifact_path=\"models\")\n",
    "    print(f\"default artifacts URI: '{mlflow.get_artifact_uri()}'\")\n",
    "\n",
    "mlflow.search_experiments()"
   ]
  },
  {
   "cell_type": "code",
   "execution_count": null,
   "metadata": {},
   "outputs": [],
   "source": []
  },
  {
   "cell_type": "code",
   "execution_count": null,
   "metadata": {},
   "outputs": [],
   "source": []
  }
 ],
 "metadata": {
  "kernelspec": {
   "display_name": "mlops-zoomcamp",
   "language": "python",
   "name": "python3"
  },
  "language_info": {
   "codemirror_mode": {
    "name": "ipython",
    "version": 3
   },
   "file_extension": ".py",
   "mimetype": "text/x-python",
   "name": "python",
   "nbconvert_exporter": "python",
   "pygments_lexer": "ipython3",
   "version": "3.11.9"
  }
 },
 "nbformat": 4,
 "nbformat_minor": 2
}
