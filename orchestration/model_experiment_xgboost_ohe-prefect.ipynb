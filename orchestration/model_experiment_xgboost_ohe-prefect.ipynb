{
 "cells": [
  {
   "cell_type": "code",
   "execution_count": 19,
   "metadata": {},
   "outputs": [],
   "source": [
    "import requests\n",
    "import datetime\n",
    "\n",
    "import pandas as pd\n",
    "import numpy as np\n",
    "import zipfile\n",
    "\n",
    "import mlflow\n",
    "import os\n",
    "import pickle\n",
    "\n",
    "from sklearn.preprocessing import OneHotEncoder\n",
    "from sklearn.preprocessing import StandardScaler\n",
    "from sklearn.model_selection import train_test_split\n",
    "from sklearn.metrics import mean_squared_error\n",
    "\n",
    "import xgboost as xg \n",
    "from hyperopt import STATUS_OK, Trials, fmin, hp, tpe"
   ]
  },
  {
   "cell_type": "code",
   "execution_count": 3,
   "metadata": {},
   "outputs": [],
   "source": [
    "#set up tracking server\n",
    "TRACKING_SERVER_HOST = \"34.171.118.161\" #external IP reserved in GCP - updated aug 8 2024\n",
    "mlflow.set_tracking_uri(f\"http://{TRACKING_SERVER_HOST}:5000\")"
   ]
  },
  {
   "cell_type": "code",
   "execution_count": 4,
   "metadata": {},
   "outputs": [
    {
     "name": "stdout",
     "output_type": "stream",
     "text": [
      "tracking URI: 'http://34.171.118.161:5000'\n"
     ]
    }
   ],
   "source": [
    "print(f\"tracking URI: '{mlflow.get_tracking_uri()}'\")"
   ]
  },
  {
   "cell_type": "code",
   "execution_count": 5,
   "metadata": {},
   "outputs": [],
   "source": [
    "data_file = \"../data/processed/202304-usage.parquet\""
   ]
  },
  {
   "cell_type": "code",
   "execution_count": 6,
   "metadata": {},
   "outputs": [
    {
     "name": "stderr",
     "output_type": "stream",
     "text": [
      "2024/08/08 10:28:49 INFO mlflow.tracking.fluent: Experiment with name 'experiment-6' does not exist. Creating a new experiment.\n"
     ]
    },
    {
     "data": {
      "text/plain": [
       "<Experiment: artifact_location='gs://mlops-divvy-experiment-tracking/mlruns/6', creation_time=1723130929596, experiment_id='6', last_update_time=1723130929596, lifecycle_stage='active', name='experiment-6', tags={}>"
      ]
     },
     "execution_count": 6,
     "metadata": {},
     "output_type": "execute_result"
    }
   ],
   "source": [
    "mlflow.set_experiment(\"experiment-6\")"
   ]
  },
  {
   "cell_type": "code",
   "execution_count": null,
   "metadata": {},
   "outputs": [],
   "source": [
    "#keep these for hyperparameter tuning after setting up mlflow and prefect."
   ]
  },
  {
   "cell_type": "code",
   "execution_count": null,
   "metadata": {},
   "outputs": [],
   "source": [
    "# search_space = {\n",
    "#     'max_depth': hp.choice(\"max_depth\", np.arange(1,20,1,dtype=int)),\n",
    "#     'eta'      : hp.uniform(\"eta\", 0, 1),\n",
    "#     'gamma'    : hp.uniform(\"gamma\", 0, 10e1),\n",
    "#     'reg_alpha': hp.uniform(\"reg_alpha\", 10e-7, 10),\n",
    "#     'reg_lambda' : hp.uniform(\"reg_lambda\", 0,1),\n",
    "#     'colsample_bytree': hp.uniform(\"colsample_bytree\", 0.5,1),\n",
    "#     'colsample_bynode': hp.uniform(\"colsample_bynode\", 0.5,1), \n",
    "#     'colsample_bylevel': hp.uniform(\"colsample_bylevel\", 0.5,1),\n",
    "#     'n_estimators': hp.choice(\"n_estimators\", np.arange(100,1000,10,dtype='int')),\n",
    "#     'min_child_weight' : hp.choice(\"min_child_weight\", np.arange(1,10,1,dtype='int')),\n",
    "#     'max_delta_step' : hp.choice(\"max_delta_step\", np.arange(1,10,1,dtype='int')),\n",
    "#     'subsample' : hp.uniform(\"subsample\",0.5,1),\n",
    "#     'objective' : 'binary:logistic',\n",
    "#     'eval_metric' : 'aucpr',\n",
    "#     'seed' : 44\n",
    "# }"
   ]
  },
  {
   "cell_type": "code",
   "execution_count": null,
   "metadata": {},
   "outputs": [],
   "source": [
    "# def xgb_objective(space):\n",
    "#   results = xg.cv(space, \n",
    "#                    dtrain=dtrain_clf, #DMatrix (xgboost specific)\n",
    "#                    num_boost_round=10, \n",
    "#                    nfold=5, \n",
    "#                    stratified=True,  \n",
    "#                    early_stopping_rounds=5,\n",
    "#                    metrics = ['logloss','auc','aucpr','error'])\n",
    "  \n",
    "#   best_score = results['test-auc-mean'].max()\n",
    "#   return {'loss':-best_score, 'status': STATUS_OK}"
   ]
  },
  {
   "cell_type": "code",
   "execution_count": null,
   "metadata": {},
   "outputs": [],
   "source": []
  },
  {
   "cell_type": "code",
   "execution_count": null,
   "metadata": {},
   "outputs": [],
   "source": []
  },
  {
   "cell_type": "code",
   "execution_count": 11,
   "metadata": {},
   "outputs": [
    {
     "name": "stdout",
     "output_type": "stream",
     "text": [
      "default artifacts URI: 'gs://mlops-divvy-experiment-tracking/mlruns/6/ac4d23bc09ec489b8f2bfa5b45d2ca82/artifacts'\n"
     ]
    },
    {
     "data": {
      "text/plain": [
       "[<Experiment: artifact_location='gs://mlops-divvy-experiment-tracking/mlruns/6', creation_time=1723130929596, experiment_id='6', last_update_time=1723130929596, lifecycle_stage='active', name='experiment-6', tags={}>,\n",
       " <Experiment: artifact_location='gs://mlops-divvy-experiment-tracking/mlruns/5', creation_time=1722263263295, experiment_id='5', last_update_time=1722263263295, lifecycle_stage='active', name='experiment-5', tags={}>,\n",
       " <Experiment: artifact_location='gs://mlops-divvy-experiment-tracking/mlruns/4', creation_time=1721847166117, experiment_id='4', last_update_time=1721847166117, lifecycle_stage='active', name='experiment-4', tags={}>,\n",
       " <Experiment: artifact_location='gs://mlops-divvy-experiment-tracking/mlruns/3', creation_time=1721846912312, experiment_id='3', last_update_time=1721846912312, lifecycle_stage='active', name='experiment-3', tags={}>,\n",
       " <Experiment: artifact_location='gs://mlops-divvy-experiment-tracking/mlruns/2', creation_time=1721227750156, experiment_id='2', last_update_time=1721227750156, lifecycle_stage='active', name='experiment-2', tags={}>,\n",
       " <Experiment: artifact_location='gs://mlops-divvy-experiment-tracking/mlruns/1', creation_time=1721225054205, experiment_id='1', last_update_time=1721225054205, lifecycle_stage='active', name='experiment-1', tags={}>,\n",
       " <Experiment: artifact_location='gs://mlops-divvy-experiment-tracking/mlruns/0', creation_time=1721165169497, experiment_id='0', last_update_time=1721165169497, lifecycle_stage='active', name='Default', tags={}>]"
      ]
     },
     "execution_count": 11,
     "metadata": {},
     "output_type": "execute_result"
    }
   ],
   "source": [
    "with mlflow.start_run():\n",
    "    #load prepared data\n",
    "    df = pd.read_parquet(data_file)\n",
    "    mlflow.log_param(\"data_file\", data_file)\n",
    "\n",
    "    cat_features = ['station_name', 'day_of_week']\n",
    "    ohe = OneHotEncoder(handle_unknown='ignore')\n",
    "\n",
    "    ohe_cols = pd.DataFrame(ohe.fit_transform(df[cat_features]).toarray(), columns = ohe.get_feature_names_out(cat_features))\n",
    "\n",
    "    ohe_cols.index = df.index\n",
    "    encoded_df = pd.concat([df, ohe_cols], axis=1)\n",
    "    encoded_df = encoded_df.drop(cat_features, axis=1)\n",
    "\n",
    "    with open(\"models/encoder-experiment6.pkl\", \"wb\") as f:\n",
    "        pickle.dump(ohe, f)\n",
    "    mlflow.log_artifact(\"models/encoder-experiment6.pkl\")\n",
    "\n",
    "    #data split\n",
    "    features = encoded_df.drop(['net_usage'], axis =1)\n",
    "    target = encoded_df['net_usage']\n",
    "\n",
    "    split_params = {\"test_size\": 0.2, \"random_state\": 42}\n",
    "    X_train, X_test, y_train, y_test = train_test_split(features, target, **split_params)\n",
    "\n",
    "    #scale numerical\n",
    "    num_features= ['hour']\n",
    "    Standard_Scaler = StandardScaler()\n",
    "    num_scaled_train = pd.DataFrame(Standard_Scaler.fit_transform(X_train[num_features]), columns=['hour_scaled'])\n",
    "    num_scaled_test = pd.DataFrame(Standard_Scaler.transform(X_test[num_features]), columns=['hour_scaled'])\n",
    "\n",
    "    num_scaled_train.index = X_train.index\n",
    "    num_scaled_test.index = X_test.index\n",
    "\n",
    "    transformed_X_train = pd.concat([num_scaled_train, X_train], axis=1)\n",
    "    transformed_X_test = pd.concat([num_scaled_test, X_test], axis=1)\n",
    "\n",
    "    transformed_X_train = transformed_X_train.drop(num_features, axis=1)\n",
    "    transformed_X_test = transformed_X_test.drop(num_features, axis=1)\n",
    "\n",
    "    with open(\"models/scaler-experiment6.pkl\", \"wb\") as f:\n",
    "        pickle.dump(Standard_Scaler, f)\n",
    " \n",
    "\n",
    "    #scale and ohe artifact for mlflow\n",
    "    mlflow.log_artifact(\"models/scaler-experiment6.pkl\")\n",
    "    \n",
    "    with open('../data/test_data/202304-usage-experiment6.pkl', 'wb') as f:\n",
    "        pickle.dump((transformed_X_train, y_train, transformed_X_test, y_test), f)\n",
    "\n",
    "    transformed_test = pd.concat([transformed_X_test, y_test], axis =1)\n",
    "    transformed_test.to_parquet(\"../deployment/data/202304-test-transformed-experiment6.parquet\")\n",
    "    \n",
    "    mlflow.log_param(\"transformed_test\", transformed_test)\n",
    "\n",
    "    #params = {\"n_estimators\": 10, \"random_state\": 42}\n",
    "    #mlflow.log_params(params)\n",
    "\n",
    "    xgbt = xg.XGBRegressor().fit(transformed_X_train, y_train) #**params\n",
    "    \n",
    "    y_pred = xgbt.predict(transformed_X_test)\n",
    "    mlflow.log_metric(\"mse\", mean_squared_error(y_test, y_pred))\n",
    "\n",
    "    mlflow.sklearn.log_model(xgbt, artifact_path=\"models\")\n",
    "    print(f\"default artifacts URI: '{mlflow.get_artifact_uri()}'\")\n",
    "\n",
    "mlflow.search_experiments()"
   ]
  },
  {
   "cell_type": "code",
   "execution_count": 18,
   "metadata": {},
   "outputs": [
    {
     "data": {
      "image/png": "[encoded data removed]",
      "text/plain": [
       "<Figure size 640x480 with 1 Axes>"
      ]
     },
     "metadata": {},
     "output_type": "display_data"
    }
   ],
   "source": [
    "import matplotlib.pyplot as plt\n",
    "plt.hist(y_test, bins=100, color='red', edgecolor='black')\n",
    "plt.hist(y_pred, bins=50, color='skyblue', edgecolor='black')\n",
    "\n",
    "plt.show()"
   ]
  },
  {
   "cell_type": "code",
   "execution_count": null,
   "metadata": {},
   "outputs": [],
   "source": []
  }
 ],
 "metadata": {
  "kernelspec": {
   "display_name": "mlops-zoomcamp",
   "language": "python",
   "name": "python3"
  },
  "language_info": {
   "codemirror_mode": {
    "name": "ipython",
    "version": 3
   },
   "file_extension": ".py",
   "mimetype": "text/x-python",
   "name": "python",
   "nbconvert_exporter": "python",
   "pygments_lexer": "ipython3",
   "version": "3.10.13"
  }
 },
 "nbformat": 4,
 "nbformat_minor": 2
}
